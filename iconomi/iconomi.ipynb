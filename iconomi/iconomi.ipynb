{
 "cells": [
  {
   "cell_type": "markdown",
   "metadata": {},
   "source": [
    "# Tokens and coins analysis\n",
    "\n",
    "This is an analysis of tokens and coins popularity, based on the holding data across 13 digital asset arrays (DAAs -- think of them as managed funds) on [Iconomi](https://www.iconomi.net/). For each DAA, their holdings and weights are provided on the Iconomi website."
   ]
  },
  {
   "cell_type": "markdown",
   "metadata": {},
   "source": [
    "# Read ICONOMI data\n",
    "\n",
    "Data was manually collected for this quick experiment. It's possible to implement a crawler for this purpose, though it will have to deal with Javascript to extract content as rendered in a browser."
   ]
  },
  {
   "cell_type": "code",
   "execution_count": 2,
   "metadata": {},
   "outputs": [
    {
     "name": "stderr",
     "output_type": "stream",
     "text": [
      "/Users/trung/anaconda/lib/python2.7/site-packages/statsmodels/compat/pandas.py:56: FutureWarning: The pandas.core.datetools module is deprecated and will be removed in a future version. Please use the pandas.tseries module instead.\n",
      "  from pandas.core import datetools\n"
     ]
    }
   ],
   "source": [
    "import pandas as pd\n",
    "import os\n",
    "from plotnine import *"
   ]
  },
  {
   "cell_type": "code",
   "execution_count": 7,
   "metadata": {},
   "outputs": [
    {
     "name": "stdout",
     "output_type": "stream",
     "text": [
      "/Users/trung/PycharmProjects/crypto\n"
     ]
    }
   ],
   "source": [
    "cd /Users/trung/PycharmProjects/crypto/"
   ]
  },
  {
   "cell_type": "code",
   "execution_count": 8,
   "metadata": {
    "collapsed": true
   },
   "outputs": [],
   "source": [
    "def read_iconomi_data(data_dir):\n",
    "    '''\n",
    "    Reads ICONOMI digital asset arrays.\n",
    "    '''\n",
    "    result = pd.DataFrame()\n",
    "    for filename in os.listdir(data_dir):\n",
    "        daa = pd.read_csv(os.path.join(data_dir, filename), delimiter='\\t')\n",
    "        result = result.append(daa)\n",
    "    \n",
    "    return result"
   ]
  },
  {
   "cell_type": "code",
   "execution_count": 9,
   "metadata": {},
   "outputs": [],
   "source": [
    "DATA_DIR='data/iconomi'\n",
    "df = read_iconomi_data(DATA_DIR)"
   ]
  },
  {
   "cell_type": "code",
   "execution_count": 10,
   "metadata": {},
   "outputs": [
    {
     "data": {
      "text/html": [
       "<div>\n",
       "<style>\n",
       "    .dataframe thead tr:only-child th {\n",
       "        text-align: right;\n",
       "    }\n",
       "\n",
       "    .dataframe thead th {\n",
       "        text-align: left;\n",
       "    }\n",
       "\n",
       "    .dataframe tbody tr th {\n",
       "        vertical-align: top;\n",
       "    }\n",
       "</style>\n",
       "<table border=\"1\" class=\"dataframe\">\n",
       "  <thead>\n",
       "    <tr style=\"text-align: right;\">\n",
       "      <th></th>\n",
       "      <th>Holding</th>\n",
       "      <th>Category</th>\n",
       "      <th>RebalancingWeight</th>\n",
       "      <th>CurrentWeight</th>\n",
       "    </tr>\n",
       "  </thead>\n",
       "  <tbody>\n",
       "    <tr>\n",
       "      <th>0</th>\n",
       "      <td>Bitcoin (BTC)</td>\n",
       "      <td>Value</td>\n",
       "      <td>15.00 %</td>\n",
       "      <td>14.65 %</td>\n",
       "    </tr>\n",
       "    <tr>\n",
       "      <th>1</th>\n",
       "      <td>Ethereum (ETH)</td>\n",
       "      <td>Platform</td>\n",
       "      <td>14.15 %</td>\n",
       "      <td>13.97 %</td>\n",
       "    </tr>\n",
       "    <tr>\n",
       "      <th>2</th>\n",
       "      <td>Dash (DASH)</td>\n",
       "      <td>Anonymity</td>\n",
       "      <td>12.60 %</td>\n",
       "      <td>12.53 %</td>\n",
       "    </tr>\n",
       "    <tr>\n",
       "      <th>3</th>\n",
       "      <td>Monero (XMR)</td>\n",
       "      <td>Anonymity</td>\n",
       "      <td>12.34 %</td>\n",
       "      <td>12.41 %</td>\n",
       "    </tr>\n",
       "    <tr>\n",
       "      <th>4</th>\n",
       "      <td>Lisk (LSK)</td>\n",
       "      <td>Platform</td>\n",
       "      <td>10.22 %</td>\n",
       "      <td>10.45 %</td>\n",
       "    </tr>\n",
       "  </tbody>\n",
       "</table>\n",
       "</div>"
      ],
      "text/plain": [
       "          Holding   Category RebalancingWeight CurrentWeight\n",
       "0   Bitcoin (BTC)      Value           15.00 %       14.65 %\n",
       "1  Ethereum (ETH)   Platform           14.15 %       13.97 %\n",
       "2     Dash (DASH)  Anonymity           12.60 %       12.53 %\n",
       "3    Monero (XMR)  Anonymity           12.34 %       12.41 %\n",
       "4      Lisk (LSK)   Platform           10.22 %       10.45 %"
      ]
     },
     "execution_count": 10,
     "metadata": {},
     "output_type": "execute_result"
    }
   ],
   "source": [
    "df.head()"
   ]
  },
  {
   "cell_type": "code",
   "execution_count": 11,
   "metadata": {},
   "outputs": [
    {
     "data": {
      "text/plain": [
       "(196, 4)"
      ]
     },
     "execution_count": 11,
     "metadata": {},
     "output_type": "execute_result"
    }
   ],
   "source": [
    "df.shape"
   ]
  },
  {
   "cell_type": "markdown",
   "metadata": {},
   "source": [
    "## Which coins / tokens are most popular?\n",
    "\n"
   ]
  },
  {
   "cell_type": "code",
   "execution_count": 12,
   "metadata": {},
   "outputs": [
    {
     "name": "stdout",
     "output_type": "stream",
     "text": [
      "Number of DAAs (funds): 13\n"
     ]
    }
   ],
   "source": [
    "n_funds = len(os.listdir(DATA_DIR))\n",
    "print('Number of DAAs (funds): {}'.format(n_funds))"
   ]
  },
  {
   "cell_type": "markdown",
   "metadata": {},
   "source": [
    "## Equal weighting\n",
    "\n",
    "By equal weighting I mean popularity is determined by the number of times an asset is chosen by funds. In other words, this is popularity by counts."
   ]
  },
  {
   "cell_type": "code",
   "execution_count": 13,
   "metadata": {},
   "outputs": [
    {
     "data": {
      "text/plain": [
       "Bitcoin (BTC)                     13\n",
       "Ethereum (ETH)                    12\n",
       "Waves (WAVES)                     10\n",
       "Aragon (ANT)                       9\n",
       "Civic (CVC)                        9\n",
       "TenX (PAY)                         7\n",
       "Status (SNT)                       7\n",
       "OmiseGO (OMG)                      7\n",
       "Basic Attention Token (BAT)        7\n",
       "WeTrust (TRST)                     6\n",
       "Dash (DASH)                        6\n",
       "Steem (STEEM)                      6\n",
       "MaidSafeCoin (MAID)                6\n",
       "Bancor (BNT)                       5\n",
       "Golem (GNT)                        5\n",
       "GameCredits (GAME)                 5\n",
       "Augur (REP)                        5\n",
       "SingularDTV (SNGLS)                5\n",
       "DigixDAO (DGD)                     5\n",
       "iExec (RLC)                        5\n",
       "WINGS (WINGS)                      4\n",
       "0x (ZRX)                           4\n",
       "FunFair (FUN)                      4\n",
       "Cofound.it (CFI)                   4\n",
       "Melon (MLN)                        4\n",
       "Lisk (LSK)                         4\n",
       "Monero (XMR)                       3\n",
       "Metal (MTL)                        3\n",
       "Numeraire (NMR)                    3\n",
       "Synereo (AMP)                      2\n",
       "FirstBlood (1ST)                   2\n",
       "Storj (STORJ)                      2\n",
       "Matchpool (GUP)                    2\n",
       "Humaniq (HMQ)                      2\n",
       "Mysterium (MYST)                   2\n",
       "Swarm City (SWT)                   1\n",
       "Factom (FCT)                       1\n",
       "Siacoin (SC)                       1\n",
       "Token card (TKN)                   1\n",
       "Ardor (ARDR)                       1\n",
       "District0x (DNT)                   1\n",
       "Gnosis (GNO)                       1\n",
       "Quantum Resistant Ledger (QRL)     1\n",
       "Chronobank (TIME)                  1\n",
       "Nexium (NXC)                       1\n",
       "Qtum (QTUM)                        1\n",
       "Name: Holding, dtype: int64"
      ]
     },
     "execution_count": 13,
     "metadata": {},
     "output_type": "execute_result"
    }
   ],
   "source": [
    "df.Holding.value_counts()"
   ]
  },
  {
   "cell_type": "markdown",
   "metadata": {},
   "source": [
    "There's no surprise at the top as Bitcoin are selected by all funds and Ethereum by all but one. The next seven are however quite intriguing. They are all held by more than half of the funds, yet none of them are in the top 10 by market caps. Tokens like Civic, Status, and Aragon are even outside of the top 50, perhaps suggesting that some managers are focused on their long-term potential.\n",
    "\n",
    "OmiseGo used to be in the top 10 but has been hammered by the recent and upcoming Bitcoin hardforks, like all other altcoins.\n",
    "\n",
    "Holding | Market Cap (millions) | Rank by market cap (as of 5th Nov, 2017)\n",
    "--|--|--\n",
    "Bitcoin | \\$124,112 | 1\n",
    "Ethereum | \\$28,639 | 2\n",
    "Waves | \\$359 | 21 \n",
    "Aragon | \\$41 | 100\n",
    "Civic | \\$101 | 59 \n",
    "TenX | \\$173 | 31\n",
    "Status | \\$111 | 53\n",
    "OmiseGo | \\$632 | 13\n",
    "Basic Attention Token | \\$142 | 40\n"
   ]
  },
  {
   "cell_type": "code",
   "execution_count": 14,
   "metadata": {
    "collapsed": true
   },
   "outputs": [],
   "source": [
    "holding_counts = df.Holding.value_counts()"
   ]
  },
  {
   "cell_type": "code",
   "execution_count": 15,
   "metadata": {
    "collapsed": true
   },
   "outputs": [],
   "source": [
    "holding_counts = holding_counts[holding_counts > 6].sort_values(ascending=False)"
   ]
  },
  {
   "cell_type": "code",
   "execution_count": 16,
   "metadata": {},
   "outputs": [],
   "source": [
    "d = pd.DataFrame({'Holding': holding_counts.index, 'Count': holding_counts.values})"
   ]
  },
  {
   "cell_type": "code",
   "execution_count": 24,
   "metadata": {},
   "outputs": [
    {
     "data": {
      "image/png": "[encoded data removed]",
      "text/plain": [
       "<matplotlib.figure.Figure at 0x110e8ded0>"
      ]
     },
     "metadata": {},
     "output_type": "display_data"
    },
    {
     "data": {
      "text/plain": [
       "<ggplot: (286263929)>"
      ]
     },
     "execution_count": 24,
     "metadata": {},
     "output_type": "execute_result"
    }
   ],
   "source": [
    "ggplot(d, aes(x = 'Holding', y='Count')) + geom_bar(stat='identity') + coord_flip() + labs(y = '#funds with holding')"
   ]
  },
  {
   "cell_type": "markdown",
   "metadata": {},
   "source": [
    "## Weighted by proportions\n",
    "\n",
    "Here we compute the popularity based on the proportion of an asset within a fund. "
   ]
  },
  {
   "cell_type": "code",
   "execution_count": 87,
   "metadata": {},
   "outputs": [],
   "source": [
    "df['weight'] = df['CurrentWeight'].str.split(' ').str[0].astype(float)"
   ]
  },
  {
   "cell_type": "code",
   "execution_count": 91,
   "metadata": {},
   "outputs": [],
   "source": [
    "holding_groups = df.groupby('Holding')"
   ]
  },
  {
   "cell_type": "code",
   "execution_count": 100,
   "metadata": {},
   "outputs": [],
   "source": [
    "holding_weights = holding_groups['weight'].agg(sum) / n_funds"
   ]
  },
  {
   "cell_type": "code",
   "execution_count": 102,
   "metadata": {},
   "outputs": [
    {
     "data": {
      "text/plain": [
       "Holding\n",
       "Bitcoin (BTC)                     27.456923\n",
       "Ethereum (ETH)                    16.146923\n",
       "Waves (WAVES)                      5.584615\n",
       "Dash (DASH)                        4.159231\n",
       "Civic (CVC)                        3.923846\n",
       "TenX (PAY)                         3.803846\n",
       "Aragon (ANT)                       3.032308\n",
       "OmiseGO (OMG)                      2.570769\n",
       "Status (SNT)                       2.307692\n",
       "0x (ZRX)                           2.273077\n",
       "Monero (XMR)                       2.100769\n",
       "Steem (STEEM)                      1.782308\n",
       "MaidSafeCoin (MAID)                1.763846\n",
       "Basic Attention Token (BAT)        1.561538\n",
       "WINGS (WINGS)                      1.531538\n",
       "Lisk (LSK)                         1.495385\n",
       "Melon (MLN)                        1.460769\n",
       "Augur (REP)                        1.406154\n",
       "WeTrust (TRST)                     1.397692\n",
       "FunFair (FUN)                      1.318462\n",
       "GameCredits (GAME)                 1.225385\n",
       "Bancor (BNT)                       1.206154\n",
       "Golem (GNT)                        1.180000\n",
       "Cofound.it (CFI)                   1.152308\n",
       "Metal (MTL)                        1.060000\n",
       "DigixDAO (DGD)                     0.987692\n",
       "iExec (RLC)                        0.970769\n",
       "SingularDTV (SNGLS)                0.956923\n",
       "Numeraire (NMR)                    0.619231\n",
       "Nexium (NXC)                       0.529231\n",
       "Storj (STORJ)                      0.430769\n",
       "Mysterium (MYST)                   0.410000\n",
       "FirstBlood (1ST)                   0.379231\n",
       "Ardor (ARDR)                       0.335385\n",
       "Qtum (QTUM)                        0.226154\n",
       "Factom (FCT)                       0.188462\n",
       "Humaniq (HMQ)                      0.176154\n",
       "Siacoin (SC)                       0.163846\n",
       "Quantum Resistant Ledger (QRL)     0.155385\n",
       "Swarm City (SWT)                   0.134615\n",
       "Chronobank (TIME)                  0.121538\n",
       "District0x (DNT)                   0.120000\n",
       "Gnosis (GNO)                       0.078462\n",
       "Synereo (AMP)                      0.052308\n",
       "Token card (TKN)                   0.037692\n",
       "Matchpool (GUP)                    0.030769\n",
       "Name: weight, dtype: float64"
      ]
     },
     "execution_count": 102,
     "metadata": {},
     "output_type": "execute_result"
    }
   ],
   "source": [
    "holding_weights.sort_values(ascending=False)"
   ]
  },
  {
   "cell_type": "markdown",
   "metadata": {},
   "source": [
    "This mostly agrees with the ranking by counts, with a slight change in the order due to the weighting by proportion in a fund."
   ]
  },
  {
   "cell_type": "markdown",
   "metadata": {},
   "source": [
    "## Which categories are most popular?\n",
    "\n",
    "We know that each coin / token typically belongs to a category with related applications. So which application categories are most popular among the funds?"
   ]
  },
  {
   "cell_type": "code",
   "execution_count": 108,
   "metadata": {},
   "outputs": [
    {
     "data": {
      "text/plain": [
       "Platform                                        24\n",
       "Value                                           13\n",
       "Programmable Platform                           10\n",
       "Decentralized Computing                         10\n",
       "Storage                                          9\n",
       "Anonymity                                        9\n",
       "Enterprise Management                            9\n",
       "Identity Management                              9\n",
       "Debit Card                                       8\n",
       "Advertisement                                    7\n",
       "Smartphone Ethereum Gateway                      7\n",
       "Decentralized Exchange and Payments Platform     7\n",
       "Lending                                          6\n",
       "Media                                            6\n",
       "Prediction                                       5\n",
       "Gaming                                           5\n",
       "Media / TV                                       5\n",
       "Financial Derivative                             5\n",
       "Value Gold                                       5\n",
       "Decentralized Exchange Protocol                  4\n",
       "Gambling Platform                                4\n",
       "Crowdfunding Platform                            4\n",
       "Digital Asset Managing Platform                  4\n",
       "Hedge Fund                                       3\n",
       "Payment Service                                  3\n",
       "Decentralized VPN Service                        2\n",
       "Matchmaking                                      2\n",
       "Gaming Solution                                  2\n",
       "Decentralized Bankng                             2\n",
       "Decentralized Labour Market                      1\n",
       "In-game Currency                                 1\n",
       "Prediction Market                                1\n",
       "Blockchain as a Service                          1\n",
       "Decentralized infrastructure                     1\n",
       "Decentralized Commerce Platform                  1\n",
       "Audit                                            1\n",
       "Name: Category, dtype: int64"
      ]
     },
     "execution_count": 108,
     "metadata": {},
     "output_type": "execute_result"
    }
   ],
   "source": [
    "df['Category'].value_counts()"
   ]
  }
 ],
 "metadata": {
  "kernelspec": {
   "display_name": "Python 2",
   "language": "python",
   "name": "python2"
  }
 },
 "nbformat": 4,
 "nbformat_minor": 1
}
